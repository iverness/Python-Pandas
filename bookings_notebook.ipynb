import pandas as pd
df=pd.read_csv('https://stepik.org/media/attachments/lesson/360344/bookings.csv',sep= ';')
